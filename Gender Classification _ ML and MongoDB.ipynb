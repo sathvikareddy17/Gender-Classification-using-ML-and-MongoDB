{
  "cells": [
    {
      "cell_type": "code",
      "execution_count": 1,
      "id": "d20d3981",
      "metadata": {
        "_cell_guid": "b1076dfc-b9ad-4769-8c92-a6c4dae69d19",
        "_uuid": "8f2839f25d086af736a60e9eeb907d3b93b6e0e5",
        "execution": {
          "iopub.execute_input": "2023-04-09T17:29:00.700543Z",
          "iopub.status.busy": "2023-04-09T17:29:00.699026Z",
          "iopub.status.idle": "2023-04-09T17:29:00.720490Z",
          "shell.execute_reply": "2023-04-09T17:29:00.719207Z"
        },
        "id": "d20d3981",
        "papermill": {
          "duration": 0.042647,
          "end_time": "2023-04-09T17:29:00.723993",
          "exception": false,
          "start_time": "2023-04-09T17:29:00.681346",
          "status": "completed"
        },
        "tags": []
      },
      "outputs": [],
      "source": [
        "\n",
        "import numpy as np \n",
        "import pandas as pd \n",
        "from pymongo import MongoClient"
      ]
    },
    {
      "attachments": {},
      "cell_type": "markdown",
      "id": "a65f82cb",
      "metadata": {
        "id": "a65f82cb",
        "papermill": {
          "duration": 0.011548,
          "end_time": "2023-04-09T17:29:00.748127",
          "exception": false,
          "start_time": "2023-04-09T17:29:00.736579",
          "status": "completed"
        },
        "tags": []
      },
      "source": [
        "# Loading the Data"
      ]
    },
    {
      "cell_type": "code",
      "execution_count": null,
      "id": "b1cafa6e",
      "metadata": {
        "execution": {
          "iopub.execute_input": "2023-04-09T17:29:00.775466Z",
          "iopub.status.busy": "2023-04-09T17:29:00.774908Z",
          "iopub.status.idle": "2023-04-09T17:29:00.827793Z",
          "shell.execute_reply": "2023-04-09T17:29:00.826273Z"
        },
        "id": "b1cafa6e",
        "outputId": "58dcb2a8-881f-410f-92e8-f3f70f1dc52c",
        "papermill": {
          "duration": 0.07046,
          "end_time": "2023-04-09T17:29:00.830977",
          "exception": false,
          "start_time": "2023-04-09T17:29:00.760517",
          "status": "completed"
        },
        "tags": []
      },
      "outputs": [
        {
          "data": {
            "text/html": [
              "<div>\n",
              "<style scoped>\n",
              "    .dataframe tbody tr th:only-of-type {\n",
              "        vertical-align: middle;\n",
              "    }\n",
              "\n",
              "    .dataframe tbody tr th {\n",
              "        vertical-align: top;\n",
              "    }\n",
              "\n",
              "    .dataframe thead th {\n",
              "        text-align: right;\n",
              "    }\n",
              "</style>\n",
              "<table border=\"1\" class=\"dataframe\">\n",
              "  <thead>\n",
              "    <tr style=\"text-align: right;\">\n",
              "      <th></th>\n",
              "      <th>long_hair</th>\n",
              "      <th>forehead_width_cm</th>\n",
              "      <th>forehead_height_cm</th>\n",
              "      <th>nose_wide</th>\n",
              "      <th>nose_long</th>\n",
              "      <th>lips_thin</th>\n",
              "      <th>distance_nose_to_lip_long</th>\n",
              "      <th>gender</th>\n",
              "    </tr>\n",
              "  </thead>\n",
              "  <tbody>\n",
              "    <tr>\n",
              "      <th>0</th>\n",
              "      <td>1</td>\n",
              "      <td>11.8</td>\n",
              "      <td>6.1</td>\n",
              "      <td>1</td>\n",
              "      <td>0</td>\n",
              "      <td>1</td>\n",
              "      <td>1</td>\n",
              "      <td>Male</td>\n",
              "    </tr>\n",
              "    <tr>\n",
              "      <th>1</th>\n",
              "      <td>0</td>\n",
              "      <td>14.0</td>\n",
              "      <td>5.4</td>\n",
              "      <td>0</td>\n",
              "      <td>0</td>\n",
              "      <td>1</td>\n",
              "      <td>0</td>\n",
              "      <td>Female</td>\n",
              "    </tr>\n",
              "    <tr>\n",
              "      <th>2</th>\n",
              "      <td>0</td>\n",
              "      <td>11.8</td>\n",
              "      <td>6.3</td>\n",
              "      <td>1</td>\n",
              "      <td>1</td>\n",
              "      <td>1</td>\n",
              "      <td>1</td>\n",
              "      <td>Male</td>\n",
              "    </tr>\n",
              "    <tr>\n",
              "      <th>3</th>\n",
              "      <td>0</td>\n",
              "      <td>14.4</td>\n",
              "      <td>6.1</td>\n",
              "      <td>0</td>\n",
              "      <td>1</td>\n",
              "      <td>1</td>\n",
              "      <td>1</td>\n",
              "      <td>Male</td>\n",
              "    </tr>\n",
              "    <tr>\n",
              "      <th>4</th>\n",
              "      <td>1</td>\n",
              "      <td>13.5</td>\n",
              "      <td>5.9</td>\n",
              "      <td>0</td>\n",
              "      <td>0</td>\n",
              "      <td>0</td>\n",
              "      <td>0</td>\n",
              "      <td>Female</td>\n",
              "    </tr>\n",
              "  </tbody>\n",
              "</table>\n",
              "</div>"
            ],
            "text/plain": [
              "   long_hair  forehead_width_cm  forehead_height_cm  nose_wide  nose_long  \\\n",
              "0          1               11.8                 6.1          1          0   \n",
              "1          0               14.0                 5.4          0          0   \n",
              "2          0               11.8                 6.3          1          1   \n",
              "3          0               14.4                 6.1          0          1   \n",
              "4          1               13.5                 5.9          0          0   \n",
              "\n",
              "   lips_thin  distance_nose_to_lip_long  gender  \n",
              "0          1                          1    Male  \n",
              "1          1                          0  Female  \n",
              "2          1                          1    Male  \n",
              "3          1                          1    Male  \n",
              "4          0                          0  Female  "
            ]
          },
          "execution_count": 2,
          "metadata": {},
          "output_type": "execute_result"
        }
      ],
      "source": [
        "df=pd.read_csv('gender_classification_v7.csv')\n",
        "client = MongoClient('mongodb://127.0.0.1:27017/')\n",
        "data=df.to_dict('records')\n",
        "db=client['people']\n",
        "collection=db['people']\n",
        "collection.insert_many(data)\n",
        "df.head()\n"
      ]
    },
    {
      "cell_type": "code",
      "execution_count": null,
      "id": "3e06cf4c",
      "metadata": {
        "execution": {
          "iopub.execute_input": "2023-04-09T17:29:00.859027Z",
          "iopub.status.busy": "2023-04-09T17:29:00.858206Z",
          "iopub.status.idle": "2023-04-09T17:29:00.867818Z",
          "shell.execute_reply": "2023-04-09T17:29:00.866121Z"
        },
        "id": "3e06cf4c",
        "outputId": "e1f1446e-89a6-42e5-f97a-f349766f2074",
        "papermill": {
          "duration": 0.026033,
          "end_time": "2023-04-09T17:29:00.870846",
          "exception": false,
          "start_time": "2023-04-09T17:29:00.844813",
          "status": "completed"
        },
        "tags": []
      },
      "outputs": [
        {
          "data": {
            "text/plain": [
              "(5001, 8)"
            ]
          },
          "execution_count": 3,
          "metadata": {},
          "output_type": "execute_result"
        }
      ],
      "source": [
        "df.shape"
      ]
    },
    {
      "cell_type": "code",
      "execution_count": null,
      "id": "9cfa8a75",
      "metadata": {
        "execution": {
          "iopub.execute_input": "2023-04-09T17:29:00.898000Z",
          "iopub.status.busy": "2023-04-09T17:29:00.897154Z",
          "iopub.status.idle": "2023-04-09T17:29:00.929152Z",
          "shell.execute_reply": "2023-04-09T17:29:00.927440Z"
        },
        "id": "9cfa8a75",
        "outputId": "249809a7-5081-4a09-93f2-20616073cc83",
        "papermill": {
          "duration": 0.048768,
          "end_time": "2023-04-09T17:29:00.931934",
          "exception": false,
          "start_time": "2023-04-09T17:29:00.883166",
          "status": "completed"
        },
        "tags": []
      },
      "outputs": [
        {
          "name": "stdout",
          "output_type": "stream",
          "text": [
            "<class 'pandas.core.frame.DataFrame'>\n",
            "RangeIndex: 5001 entries, 0 to 5000\n",
            "Data columns (total 8 columns):\n",
            " #   Column                     Non-Null Count  Dtype  \n",
            "---  ------                     --------------  -----  \n",
            " 0   long_hair                  5001 non-null   int64  \n",
            " 1   forehead_width_cm          5001 non-null   float64\n",
            " 2   forehead_height_cm         5001 non-null   float64\n",
            " 3   nose_wide                  5001 non-null   int64  \n",
            " 4   nose_long                  5001 non-null   int64  \n",
            " 5   lips_thin                  5001 non-null   int64  \n",
            " 6   distance_nose_to_lip_long  5001 non-null   int64  \n",
            " 7   gender                     5001 non-null   object \n",
            "dtypes: float64(2), int64(5), object(1)\n",
            "memory usage: 312.7+ KB\n"
          ]
        }
      ],
      "source": [
        "df.info()"
      ]
    },
    {
      "cell_type": "code",
      "execution_count": null,
      "id": "f3f0ffcf",
      "metadata": {
        "execution": {
          "iopub.execute_input": "2023-04-09T17:29:00.959160Z",
          "iopub.status.busy": "2023-04-09T17:29:00.958692Z",
          "iopub.status.idle": "2023-04-09T17:29:00.970425Z",
          "shell.execute_reply": "2023-04-09T17:29:00.969017Z"
        },
        "id": "f3f0ffcf",
        "outputId": "c29b4271-b307-40e2-c3bf-963b47a9ec96",
        "papermill": {
          "duration": 0.029182,
          "end_time": "2023-04-09T17:29:00.973550",
          "exception": false,
          "start_time": "2023-04-09T17:29:00.944368",
          "status": "completed"
        },
        "tags": []
      },
      "outputs": [
        {
          "data": {
            "text/plain": [
              "long_hair                    0\n",
              "forehead_width_cm            0\n",
              "forehead_height_cm           0\n",
              "nose_wide                    0\n",
              "nose_long                    0\n",
              "lips_thin                    0\n",
              "distance_nose_to_lip_long    0\n",
              "gender                       0\n",
              "dtype: int64"
            ]
          },
          "execution_count": 5,
          "metadata": {},
          "output_type": "execute_result"
        }
      ],
      "source": [
        "df.isnull().sum()"
      ]
    },
    {
      "attachments": {},
      "cell_type": "markdown",
      "id": "4ea4df86",
      "metadata": {
        "id": "4ea4df86",
        "papermill": {
          "duration": 0.012049,
          "end_time": "2023-04-09T17:29:00.997707",
          "exception": false,
          "start_time": "2023-04-09T17:29:00.985658",
          "status": "completed"
        },
        "tags": []
      },
      "source": [
        "# Checking the NULL values"
      ]
    },
    {
      "cell_type": "code",
      "execution_count": null,
      "id": "f66edbfd",
      "metadata": {
        "execution": {
          "iopub.execute_input": "2023-04-09T17:29:01.024161Z",
          "iopub.status.busy": "2023-04-09T17:29:01.023663Z",
          "iopub.status.idle": "2023-04-09T17:29:01.049260Z",
          "shell.execute_reply": "2023-04-09T17:29:01.047979Z"
        },
        "id": "f66edbfd",
        "outputId": "a75366ff-2290-4379-cea6-c67389e9b1f9",
        "papermill": {
          "duration": 0.042169,
          "end_time": "2023-04-09T17:29:01.052016",
          "exception": false,
          "start_time": "2023-04-09T17:29:01.009847",
          "status": "completed"
        },
        "tags": []
      },
      "outputs": [
        {
          "name": "stdout",
          "output_type": "stream",
          "text": [
            "Total records =  5001\n"
          ]
        },
        {
          "data": {
            "text/html": [
              "<div>\n",
              "<style scoped>\n",
              "    .dataframe tbody tr th:only-of-type {\n",
              "        vertical-align: middle;\n",
              "    }\n",
              "\n",
              "    .dataframe tbody tr th {\n",
              "        vertical-align: top;\n",
              "    }\n",
              "\n",
              "    .dataframe thead th {\n",
              "        text-align: right;\n",
              "    }\n",
              "</style>\n",
              "<table border=\"1\" class=\"dataframe\">\n",
              "  <thead>\n",
              "    <tr style=\"text-align: right;\">\n",
              "      <th></th>\n",
              "      <th>Total Missing</th>\n",
              "      <th>In Percent</th>\n",
              "    </tr>\n",
              "  </thead>\n",
              "  <tbody>\n",
              "    <tr>\n",
              "      <th>long_hair</th>\n",
              "      <td>0</td>\n",
              "      <td>0.0</td>\n",
              "    </tr>\n",
              "    <tr>\n",
              "      <th>forehead_width_cm</th>\n",
              "      <td>0</td>\n",
              "      <td>0.0</td>\n",
              "    </tr>\n",
              "    <tr>\n",
              "      <th>forehead_height_cm</th>\n",
              "      <td>0</td>\n",
              "      <td>0.0</td>\n",
              "    </tr>\n",
              "    <tr>\n",
              "      <th>nose_wide</th>\n",
              "      <td>0</td>\n",
              "      <td>0.0</td>\n",
              "    </tr>\n",
              "    <tr>\n",
              "      <th>nose_long</th>\n",
              "      <td>0</td>\n",
              "      <td>0.0</td>\n",
              "    </tr>\n",
              "    <tr>\n",
              "      <th>lips_thin</th>\n",
              "      <td>0</td>\n",
              "      <td>0.0</td>\n",
              "    </tr>\n",
              "    <tr>\n",
              "      <th>distance_nose_to_lip_long</th>\n",
              "      <td>0</td>\n",
              "      <td>0.0</td>\n",
              "    </tr>\n",
              "    <tr>\n",
              "      <th>gender</th>\n",
              "      <td>0</td>\n",
              "      <td>0.0</td>\n",
              "    </tr>\n",
              "  </tbody>\n",
              "</table>\n",
              "</div>"
            ],
            "text/plain": [
              "                           Total Missing  In Percent\n",
              "long_hair                              0         0.0\n",
              "forehead_width_cm                      0         0.0\n",
              "forehead_height_cm                     0         0.0\n",
              "nose_wide                              0         0.0\n",
              "nose_long                              0         0.0\n",
              "lips_thin                              0         0.0\n",
              "distance_nose_to_lip_long              0         0.0\n",
              "gender                                 0         0.0"
            ]
          },
          "execution_count": 6,
          "metadata": {},
          "output_type": "execute_result"
        }
      ],
      "source": [
        "total_null = df.isnull().sum().sort_values(ascending = False)\n",
        "percent = ((df.isnull().sum()/df.isnull().count())*100).sort_values(ascending = False)\n",
        "print(\"Total records = \", df.shape[0])\n",
        "\n",
        "missing_data = pd.concat([total_null,percent.round(2)],axis=1,keys=['Total Missing','In Percent'])\n",
        "missing_data"
      ]
    },
    {
      "attachments": {},
      "cell_type": "markdown",
      "id": "1a06bdcb",
      "metadata": {
        "id": "1a06bdcb",
        "papermill": {
          "duration": 0.01194,
          "end_time": "2023-04-09T17:29:01.076378",
          "exception": false,
          "start_time": "2023-04-09T17:29:01.064438",
          "status": "completed"
        },
        "tags": []
      },
      "source": [
        "Since there is no null values we can proceed to the next steps as the data is clean"
      ]
    },
    {
      "attachments": {},
      "cell_type": "markdown",
      "id": "94347daf",
      "metadata": {
        "id": "94347daf",
        "papermill": {
          "duration": 0.013461,
          "end_time": "2023-04-09T17:29:01.102245",
          "exception": false,
          "start_time": "2023-04-09T17:29:01.088784",
          "status": "completed"
        },
        "tags": []
      },
      "source": [
        "# EDA Plot the graphs"
      ]
    },
    {
      "cell_type": "code",
      "execution_count": null,
      "id": "f91e5ec6",
      "metadata": {
        "execution": {
          "iopub.execute_input": "2023-04-09T17:29:01.130398Z",
          "iopub.status.busy": "2023-04-09T17:29:01.129923Z",
          "iopub.status.idle": "2023-04-09T17:29:02.356951Z",
          "shell.execute_reply": "2023-04-09T17:29:02.355473Z"
        },
        "id": "f91e5ec6",
        "papermill": {
          "duration": 1.244843,
          "end_time": "2023-04-09T17:29:02.360119",
          "exception": false,
          "start_time": "2023-04-09T17:29:01.115276",
          "status": "completed"
        },
        "tags": []
      },
      "outputs": [],
      "source": [
        "import matplotlib.pyplot as plt\n",
        "import seaborn as sns"
      ]
    },
    {
      "attachments": {},
      "cell_type": "markdown",
      "id": "0026db02",
      "metadata": {
        "id": "0026db02",
        "papermill": {
          "duration": 0.011893,
          "end_time": "2023-04-09T17:29:02.384796",
          "exception": false,
          "start_time": "2023-04-09T17:29:02.372903",
          "status": "completed"
        },
        "tags": []
      },
      "source": [
        "CoRelation Graph of the Dataset"
      ]
    },
    {
      "cell_type": "code",
      "execution_count": null,
      "id": "744378b6",
      "metadata": {
        "execution": {
          "iopub.execute_input": "2023-04-09T17:29:02.411150Z",
          "iopub.status.busy": "2023-04-09T17:29:02.410663Z",
          "iopub.status.idle": "2023-04-09T17:29:03.027160Z",
          "shell.execute_reply": "2023-04-09T17:29:03.025791Z"
        },
        "id": "744378b6",
        "outputId": "d17bd574-76a4-4b3b-f9d1-28046f95d69e",
        "papermill": {
          "duration": 0.633342,
          "end_time": "2023-04-09T17:29:03.030272",
          "exception": false,
          "start_time": "2023-04-09T17:29:02.396930",
          "status": "completed"
        },
        "tags": []
      },
      "outputs": [
        {
          "data": {
            "image/png": "[encoded data removed]",
            "text/plain": [
              "<Figure size 1000x800 with 2 Axes>"
            ]
          },
          "metadata": {},
          "output_type": "display_data"
        }
      ],
      "source": [
        "corr = df.corr()\n",
        "plt.figure(figsize=(10,8))\n",
        "sns.heatmap(corr, annot=True)\n",
        "plt.show()"
      ]
    },
    {
      "attachments": {},
      "cell_type": "markdown",
      "id": "5606567f",
      "metadata": {
        "id": "5606567f",
        "papermill": {
          "duration": 0.012996,
          "end_time": "2023-04-09T17:29:03.057970",
          "exception": false,
          "start_time": "2023-04-09T17:29:03.044974",
          "status": "completed"
        },
        "tags": []
      },
      "source": [
        "Long Hairs have nothing to do with any other Feature. Forehead Width CM and Forehead Height CM are also not correlated with the feature set. Nose Wide, Nose Long, Lips Thin & Gender dosen't have highly strong relation but still the relations are partially strong. But as they are just 0s and 1s we can't count on them."
      ]
    },
    {
      "attachments": {},
      "cell_type": "markdown",
      "id": "dd6a41e4",
      "metadata": {
        "id": "dd6a41e4",
        "papermill": {
          "duration": 0.013058,
          "end_time": "2023-04-09T17:29:03.084355",
          "exception": false,
          "start_time": "2023-04-09T17:29:03.071297",
          "status": "completed"
        },
        "tags": []
      },
      "source": [
        "Pie Chart Between the Classes"
      ]
    },
    {
      "cell_type": "code",
      "execution_count": null,
      "id": "7cf94423",
      "metadata": {
        "execution": {
          "iopub.execute_input": "2023-04-09T17:29:03.113435Z",
          "iopub.status.busy": "2023-04-09T17:29:03.112345Z",
          "iopub.status.idle": "2023-04-09T17:29:03.292035Z",
          "shell.execute_reply": "2023-04-09T17:29:03.290347Z"
        },
        "id": "7cf94423",
        "outputId": "c1a10150-570d-488f-e61b-3a90194e4969",
        "papermill": {
          "duration": 0.19862,
          "end_time": "2023-04-09T17:29:03.296275",
          "exception": false,
          "start_time": "2023-04-09T17:29:03.097655",
          "status": "completed"
        },
        "tags": []
      },
      "outputs": [
        {
          "data": {
            "image/png": "[encoded data removed]",
            "text/plain": [
              "<Figure size 640x480 with 1 Axes>"
            ]
          },
          "metadata": {},
          "output_type": "display_data"
        }
      ],
      "source": [
        "fig = plt.pie(\n",
        "    df.gender.value_counts(),\n",
        "    labels=df.gender.unique(),\n",
        "    autopct='%1.1f%%'\n",
        ")\n",
        "plt.legend()\n",
        "plt.show()"
      ]
    },
    {
      "attachments": {},
      "cell_type": "markdown",
      "id": "9b987a08",
      "metadata": {
        "id": "9b987a08",
        "papermill": {
          "duration": 0.021282,
          "end_time": "2023-04-09T17:29:03.342252",
          "exception": false,
          "start_time": "2023-04-09T17:29:03.320970",
          "status": "completed"
        },
        "tags": []
      },
      "source": [
        "Equal Numbe rof males andd females in the dataset"
      ]
    },
    {
      "attachments": {},
      "cell_type": "markdown",
      "id": "b4a2a947",
      "metadata": {
        "id": "b4a2a947",
        "papermill": {
          "duration": 0.014408,
          "end_time": "2023-04-09T17:29:03.370994",
          "exception": false,
          "start_time": "2023-04-09T17:29:03.356586",
          "status": "completed"
        },
        "tags": []
      },
      "source": [
        "Plot for the relation between nose length and the gender"
      ]
    },
    {
      "cell_type": "code",
      "execution_count": null,
      "id": "c9cfe127",
      "metadata": {
        "execution": {
          "iopub.execute_input": "2023-04-09T17:29:03.402232Z",
          "iopub.status.busy": "2023-04-09T17:29:03.401096Z",
          "iopub.status.idle": "2023-04-09T17:29:03.718320Z",
          "shell.execute_reply": "2023-04-09T17:29:03.716867Z"
        },
        "id": "c9cfe127",
        "outputId": "a917d7f5-2015-4a77-fbd7-ff210d00b618",
        "papermill": {
          "duration": 0.335631,
          "end_time": "2023-04-09T17:29:03.721038",
          "exception": false,
          "start_time": "2023-04-09T17:29:03.385407",
          "status": "completed"
        },
        "tags": []
      },
      "outputs": [
        {
          "data": {
            "image/png": "[encoded data removed]",
            "text/plain": [
              "<Figure size 850.25x500 with 1 Axes>"
            ]
          },
          "metadata": {},
          "output_type": "display_data"
        }
      ],
      "source": [
        "sns.catplot(\n",
        "    data=df,\n",
        "    x='nose_long',\n",
        "    kind='count',\n",
        "    hue='gender',\n",
        "    aspect=1.5\n",
        ")\n",
        "plt.show()"
      ]
    },
    {
      "attachments": {},
      "cell_type": "markdown",
      "id": "a538f4f2",
      "metadata": {
        "id": "a538f4f2",
        "papermill": {
          "duration": 0.013956,
          "end_time": "2023-04-09T17:29:03.749272",
          "exception": false,
          "start_time": "2023-04-09T17:29:03.735316",
          "status": "completed"
        },
        "tags": []
      },
      "source": [
        "Males usually have longer nose than females"
      ]
    },
    {
      "attachments": {},
      "cell_type": "markdown",
      "id": "7793d820",
      "metadata": {
        "id": "7793d820",
        "papermill": {
          "duration": 0.013674,
          "end_time": "2023-04-09T17:29:03.777066",
          "exception": false,
          "start_time": "2023-04-09T17:29:03.763392",
          "status": "completed"
        },
        "tags": []
      },
      "source": [
        "Pie chart for percantage of people with long hair"
      ]
    },
    {
      "cell_type": "code",
      "execution_count": null,
      "id": "5966d1eb",
      "metadata": {
        "execution": {
          "iopub.execute_input": "2023-04-09T17:29:03.807546Z",
          "iopub.status.busy": "2023-04-09T17:29:03.807108Z",
          "iopub.status.idle": "2023-04-09T17:29:03.986792Z",
          "shell.execute_reply": "2023-04-09T17:29:03.985052Z"
        },
        "id": "5966d1eb",
        "outputId": "be49f175-663d-4d1a-ea1e-27e9cb714743",
        "papermill": {
          "duration": 0.199584,
          "end_time": "2023-04-09T17:29:03.990778",
          "exception": false,
          "start_time": "2023-04-09T17:29:03.791194",
          "status": "completed"
        },
        "tags": []
      },
      "outputs": [
        {
          "data": {
            "image/png": "[encoded data removed]",
            "text/plain": [
              "<Figure size 640x480 with 1 Axes>"
            ]
          },
          "metadata": {},
          "output_type": "display_data"
        }
      ],
      "source": [
        "fig = plt.pie(\n",
        "    df.long_hair.value_counts(),\n",
        "    labels=df.long_hair.unique(),\n",
        "    autopct='%1.1f%%'\n",
        ")\n",
        "plt.legend()\n",
        "plt.show()"
      ]
    },
    {
      "attachments": {},
      "cell_type": "markdown",
      "id": "cdc4cc4a",
      "metadata": {
        "id": "cdc4cc4a",
        "papermill": {
          "duration": 0.022166,
          "end_time": "2023-04-09T17:29:04.036799",
          "exception": false,
          "start_time": "2023-04-09T17:29:04.014633",
          "status": "completed"
        },
        "tags": []
      },
      "source": [
        "87% of the people have long hair"
      ]
    },
    {
      "cell_type": "raw",
      "id": "5b46df2d",
      "metadata": {
        "id": "5b46df2d",
        "papermill": {
          "duration": 0.014083,
          "end_time": "2023-04-09T17:29:04.065238",
          "exception": false,
          "start_time": "2023-04-09T17:29:04.051155",
          "status": "completed"
        },
        "tags": []
      },
      "source": [
        "Relation between gender and length of hair"
      ]
    },
    {
      "cell_type": "code",
      "execution_count": null,
      "id": "77f28f5b",
      "metadata": {
        "execution": {
          "iopub.execute_input": "2023-04-09T17:29:04.096143Z",
          "iopub.status.busy": "2023-04-09T17:29:04.095709Z",
          "iopub.status.idle": "2023-04-09T17:29:04.413774Z",
          "shell.execute_reply": "2023-04-09T17:29:04.412566Z"
        },
        "id": "77f28f5b",
        "outputId": "7f8acb07-4f2d-45a0-cebf-a05538e0e3e7",
        "papermill": {
          "duration": 0.336983,
          "end_time": "2023-04-09T17:29:04.416675",
          "exception": false,
          "start_time": "2023-04-09T17:29:04.079692",
          "status": "completed"
        },
        "tags": []
      },
      "outputs": [
        {
          "data": {
            "image/png": "[encoded data removed]",
            "text/plain": [
              "<Figure size 850.25x500 with 1 Axes>"
            ]
          },
          "metadata": {},
          "output_type": "display_data"
        }
      ],
      "source": [
        "sns.catplot(\n",
        "    data=df,\n",
        "    x='long_hair',\n",
        "    kind='count',\n",
        "    hue='gender',\n",
        "    aspect=1.5\n",
        ")\n",
        "plt.show()\n"
      ]
    },
    {
      "attachments": {},
      "cell_type": "markdown",
      "id": "6851017a",
      "metadata": {
        "id": "6851017a",
        "papermill": {
          "duration": 0.014848,
          "end_time": "2023-04-09T17:29:04.447106",
          "exception": false,
          "start_time": "2023-04-09T17:29:04.432258",
          "status": "completed"
        },
        "tags": []
      },
      "source": [
        "If someone have long hairs they are equally likely to be Male and Female and the case is same with short hairs."
      ]
    },
    {
      "attachments": {},
      "cell_type": "markdown",
      "id": "ac22bf6c",
      "metadata": {
        "id": "ac22bf6c",
        "papermill": {
          "duration": 0.014911,
          "end_time": "2023-04-09T17:29:04.477837",
          "exception": false,
          "start_time": "2023-04-09T17:29:04.462926",
          "status": "completed"
        },
        "tags": []
      },
      "source": [
        "Relation between thinness of lips and gender"
      ]
    },
    {
      "cell_type": "code",
      "execution_count": null,
      "id": "881a4357",
      "metadata": {
        "execution": {
          "iopub.execute_input": "2023-04-09T17:29:04.511663Z",
          "iopub.status.busy": "2023-04-09T17:29:04.510773Z",
          "iopub.status.idle": "2023-04-09T17:29:04.825529Z",
          "shell.execute_reply": "2023-04-09T17:29:04.824626Z"
        },
        "id": "881a4357",
        "outputId": "6a061a85-2b67-4c51-ba72-7d5aadb2e503",
        "papermill": {
          "duration": 0.334476,
          "end_time": "2023-04-09T17:29:04.828031",
          "exception": false,
          "start_time": "2023-04-09T17:29:04.493555",
          "status": "completed"
        },
        "tags": []
      },
      "outputs": [
        {
          "data": {
            "image/png": "[encoded data removed]",
            "text/plain": [
              "<Figure size 850.25x500 with 1 Axes>"
            ]
          },
          "metadata": {},
          "output_type": "display_data"
        }
      ],
      "source": [
        "sns.catplot(\n",
        "    data=df,\n",
        "    x='lips_thin',\n",
        "    kind='count',\n",
        "    hue='gender',\n",
        "    aspect=1.5\n",
        ")\n",
        "plt.show()"
      ]
    },
    {
      "attachments": {},
      "cell_type": "markdown",
      "id": "274638ea",
      "metadata": {
        "id": "274638ea",
        "papermill": {
          "duration": 0.014983,
          "end_time": "2023-04-09T17:29:04.858377",
          "exception": false,
          "start_time": "2023-04-09T17:29:04.843394",
          "status": "completed"
        },
        "tags": []
      },
      "source": [
        "Females have thinner lips than males"
      ]
    },
    {
      "attachments": {},
      "cell_type": "markdown",
      "id": "76945342",
      "metadata": {
        "id": "76945342",
        "papermill": {
          "duration": 0.01511,
          "end_time": "2023-04-09T17:29:04.889019",
          "exception": false,
          "start_time": "2023-04-09T17:29:04.873909",
          "status": "completed"
        },
        "tags": []
      },
      "source": [
        "Catplot for thin lips vs wide_nose vs long nose vs gender"
      ]
    },
    {
      "cell_type": "code",
      "execution_count": null,
      "id": "297faa58",
      "metadata": {
        "execution": {
          "iopub.execute_input": "2023-04-09T17:29:04.921465Z",
          "iopub.status.busy": "2023-04-09T17:29:04.920637Z",
          "iopub.status.idle": "2023-04-09T17:29:05.854749Z",
          "shell.execute_reply": "2023-04-09T17:29:05.853422Z"
        },
        "id": "297faa58",
        "outputId": "f19b13cb-35cc-49f8-dced-4109f756a9ed",
        "papermill": {
          "duration": 0.953536,
          "end_time": "2023-04-09T17:29:05.857576",
          "exception": false,
          "start_time": "2023-04-09T17:29:04.904040",
          "status": "completed"
        },
        "tags": []
      },
      "outputs": [
        {
          "data": {
            "image/png": "[encoded data removed]",
            "text/plain": [
              "<Figure size 1600.25x1000 with 4 Axes>"
            ]
          },
          "metadata": {},
          "output_type": "display_data"
        }
      ],
      "source": [
        "sns.catplot(\n",
        "    data=df,\n",
        "    x='lips_thin',\n",
        "    kind='count',\n",
        "    col='nose_wide',\n",
        "    row='nose_long',\n",
        "    hue='gender',\n",
        "    aspect=1.5\n",
        ")\n",
        "plt.show()\n"
      ]
    },
    {
      "attachments": {},
      "cell_type": "markdown",
      "id": "f5f9f452",
      "metadata": {
        "id": "f5f9f452",
        "papermill": {
          "duration": 0.015778,
          "end_time": "2023-04-09T17:29:05.890240",
          "exception": false,
          "start_time": "2023-04-09T17:29:05.874462",
          "status": "completed"
        },
        "tags": []
      },
      "source": [
        "We can infer the data by visualizing"
      ]
    },
    {
      "attachments": {},
      "cell_type": "markdown",
      "id": "0c94a298",
      "metadata": {
        "id": "0c94a298",
        "papermill": {
          "duration": 0.015337,
          "end_time": "2023-04-09T17:29:05.921264",
          "exception": false,
          "start_time": "2023-04-09T17:29:05.905927",
          "status": "completed"
        },
        "tags": []
      },
      "source": [
        "# Dividing the dataset into training and testing values along with features"
      ]
    },
    {
      "cell_type": "code",
      "execution_count": null,
      "id": "033b8f23",
      "metadata": {
        "execution": {
          "iopub.execute_input": "2023-04-09T17:29:05.955875Z",
          "iopub.status.busy": "2023-04-09T17:29:05.955073Z",
          "iopub.status.idle": "2023-04-09T17:29:05.962748Z",
          "shell.execute_reply": "2023-04-09T17:29:05.961716Z"
        },
        "id": "033b8f23",
        "papermill": {
          "duration": 0.028366,
          "end_time": "2023-04-09T17:29:05.965292",
          "exception": false,
          "start_time": "2023-04-09T17:29:05.936926",
          "status": "completed"
        },
        "tags": []
      },
      "outputs": [],
      "source": [
        "Y=df['gender']\n",
        "X=df.drop(['gender'],axis=1)"
      ]
    },
    {
      "cell_type": "code",
      "execution_count": null,
      "id": "e6bdb20a",
      "metadata": {
        "execution": {
          "iopub.execute_input": "2023-04-09T17:29:05.999686Z",
          "iopub.status.busy": "2023-04-09T17:29:05.998830Z",
          "iopub.status.idle": "2023-04-09T17:29:06.198793Z",
          "shell.execute_reply": "2023-04-09T17:29:06.197493Z"
        },
        "id": "e6bdb20a",
        "papermill": {
          "duration": 0.220481,
          "end_time": "2023-04-09T17:29:06.201749",
          "exception": false,
          "start_time": "2023-04-09T17:29:05.981268",
          "status": "completed"
        },
        "tags": []
      },
      "outputs": [],
      "source": [
        "from sklearn.model_selection import train_test_split\n",
        "X_train,X_test,y_train,y_test=train_test_split(X,Y,test_size=0.2)"
      ]
    },
    {
      "cell_type": "code",
      "execution_count": null,
      "id": "54fa39f8",
      "metadata": {
        "execution": {
          "iopub.execute_input": "2023-04-09T17:29:06.235265Z",
          "iopub.status.busy": "2023-04-09T17:29:06.234539Z",
          "iopub.status.idle": "2023-04-09T17:29:06.242980Z",
          "shell.execute_reply": "2023-04-09T17:29:06.241818Z"
        },
        "id": "54fa39f8",
        "papermill": {
          "duration": 0.02847,
          "end_time": "2023-04-09T17:29:06.245983",
          "exception": false,
          "start_time": "2023-04-09T17:29:06.217513",
          "status": "completed"
        },
        "tags": []
      },
      "outputs": [],
      "source": [
        "from sklearn.preprocessing import LabelEncoder\n",
        "lb = LabelEncoder()\n",
        "y_train = lb.fit_transform(y_train)\n",
        "y_test=lb.fit_transform(y_test)"
      ]
    },
    {
      "cell_type": "code",
      "execution_count": null,
      "id": "e409bf39",
      "metadata": {
        "execution": {
          "iopub.execute_input": "2023-04-09T17:29:06.279499Z",
          "iopub.status.busy": "2023-04-09T17:29:06.278673Z",
          "iopub.status.idle": "2023-04-09T17:29:06.285443Z",
          "shell.execute_reply": "2023-04-09T17:29:06.284556Z"
        },
        "id": "e409bf39",
        "outputId": "82636f68-a493-41a4-be9a-1c1a92d9a408",
        "papermill": {
          "duration": 0.02589,
          "end_time": "2023-04-09T17:29:06.287669",
          "exception": false,
          "start_time": "2023-04-09T17:29:06.261779",
          "status": "completed"
        },
        "tags": []
      },
      "outputs": [
        {
          "data": {
            "text/plain": [
              "array([1, 0, 1, ..., 1, 1, 1])"
            ]
          },
          "execution_count": 18,
          "metadata": {},
          "output_type": "execute_result"
        }
      ],
      "source": [
        "y_train"
      ]
    },
    {
      "attachments": {},
      "cell_type": "markdown",
      "id": "9f8cd019",
      "metadata": {
        "id": "9f8cd019",
        "papermill": {
          "duration": 0.01542,
          "end_time": "2023-04-09T17:29:06.318788",
          "exception": false,
          "start_time": "2023-04-09T17:29:06.303368",
          "status": "completed"
        },
        "tags": []
      },
      "source": [
        "# Training Model Using Linear Regression"
      ]
    },
    {
      "cell_type": "code",
      "execution_count": null,
      "id": "efecb475",
      "metadata": {
        "execution": {
          "iopub.execute_input": "2023-04-09T17:29:06.352552Z",
          "iopub.status.busy": "2023-04-09T17:29:06.351788Z",
          "iopub.status.idle": "2023-04-09T17:29:06.440596Z",
          "shell.execute_reply": "2023-04-09T17:29:06.439262Z"
        },
        "id": "efecb475",
        "papermill": {
          "duration": 0.10898,
          "end_time": "2023-04-09T17:29:06.443525",
          "exception": false,
          "start_time": "2023-04-09T17:29:06.334545",
          "status": "completed"
        },
        "tags": []
      },
      "outputs": [],
      "source": [
        "from sklearn.linear_model import LinearRegression"
      ]
    },
    {
      "cell_type": "code",
      "execution_count": null,
      "id": "4adeaf2d",
      "metadata": {
        "execution": {
          "iopub.execute_input": "2023-04-09T17:29:06.477651Z",
          "iopub.status.busy": "2023-04-09T17:29:06.476996Z",
          "iopub.status.idle": "2023-04-09T17:29:06.495814Z",
          "shell.execute_reply": "2023-04-09T17:29:06.494164Z"
        },
        "id": "4adeaf2d",
        "outputId": "5745286b-8fb9-409a-e604-b42c9e626b3d",
        "papermill": {
          "duration": 0.039318,
          "end_time": "2023-04-09T17:29:06.498857",
          "exception": false,
          "start_time": "2023-04-09T17:29:06.459539",
          "status": "completed"
        },
        "tags": []
      },
      "outputs": [
        {
          "name": "stdout",
          "output_type": "stream",
          "text": [
            "0.8364638669104503\n"
          ]
        }
      ],
      "source": [
        "model = LinearRegression()\n",
        "model.fit(X_train, y_train)\n",
        "print(model.score(X_test, y_test))"
      ]
    },
    {
      "attachments": {},
      "cell_type": "markdown",
      "id": "0f8593dc",
      "metadata": {
        "id": "0f8593dc",
        "papermill": {
          "duration": 0.015739,
          "end_time": "2023-04-09T17:29:06.530583",
          "exception": false,
          "start_time": "2023-04-09T17:29:06.514844",
          "status": "completed"
        },
        "tags": []
      },
      "source": [
        "# Training Model Using Logistic Regression\n",
        "from sklearn.linear_model import LogisticRegression"
      ]
    },
    {
      "cell_type": "code",
      "execution_count": null,
      "id": "89f7fd07",
      "metadata": {
        "execution": {
          "iopub.execute_input": "2023-04-09T17:29:06.565134Z",
          "iopub.status.busy": "2023-04-09T17:29:06.564504Z",
          "iopub.status.idle": "2023-04-09T17:29:06.570990Z",
          "shell.execute_reply": "2023-04-09T17:29:06.569402Z"
        },
        "id": "89f7fd07",
        "papermill": {
          "duration": 0.027313,
          "end_time": "2023-04-09T17:29:06.573886",
          "exception": false,
          "start_time": "2023-04-09T17:29:06.546573",
          "status": "completed"
        },
        "tags": []
      },
      "outputs": [],
      "source": [
        "from sklearn.linear_model import LogisticRegression"
      ]
    },
    {
      "cell_type": "code",
      "execution_count": null,
      "id": "8c3fc74e",
      "metadata": {
        "execution": {
          "iopub.execute_input": "2023-04-09T17:29:06.608831Z",
          "iopub.status.busy": "2023-04-09T17:29:06.608212Z",
          "iopub.status.idle": "2023-04-09T17:29:06.682105Z",
          "shell.execute_reply": "2023-04-09T17:29:06.680591Z"
        },
        "id": "8c3fc74e",
        "outputId": "f17e72e5-9d58-48ff-80fa-9ce091891320",
        "papermill": {
          "duration": 0.096547,
          "end_time": "2023-04-09T17:29:06.686610",
          "exception": false,
          "start_time": "2023-04-09T17:29:06.590063",
          "status": "completed"
        },
        "tags": []
      },
      "outputs": [
        {
          "name": "stdout",
          "output_type": "stream",
          "text": [
            "0.968031968031968\n"
          ]
        }
      ],
      "source": [
        "model2=LogisticRegression()\n",
        "model2.fit(X_train,y_train)\n",
        "print(model2.score(X_test,y_test))"
      ]
    },
    {
      "attachments": {},
      "cell_type": "markdown",
      "id": "b82e26c8",
      "metadata": {
        "id": "b82e26c8",
        "papermill": {
          "duration": 0.026123,
          "end_time": "2023-04-09T17:29:06.740372",
          "exception": false,
          "start_time": "2023-04-09T17:29:06.714249",
          "status": "completed"
        },
        "tags": []
      },
      "source": [
        "# Training Model Using Random Forest"
      ]
    },
    {
      "cell_type": "code",
      "execution_count": null,
      "id": "ad3326ee",
      "metadata": {
        "execution": {
          "iopub.execute_input": "2023-04-09T17:29:06.795545Z",
          "iopub.status.busy": "2023-04-09T17:29:06.794584Z",
          "iopub.status.idle": "2023-04-09T17:29:07.370253Z",
          "shell.execute_reply": "2023-04-09T17:29:07.368530Z"
        },
        "id": "ad3326ee",
        "outputId": "3fe8ddda-b87b-4843-f4e3-e1e67b1b63b9",
        "papermill": {
          "duration": 0.605213,
          "end_time": "2023-04-09T17:29:07.372904",
          "exception": false,
          "start_time": "2023-04-09T17:29:06.767691",
          "status": "completed"
        },
        "tags": []
      },
      "outputs": [
        {
          "name": "stdout",
          "output_type": "stream",
          "text": [
            "0.97002997002997\n"
          ]
        }
      ],
      "source": [
        "from sklearn.ensemble import RandomForestClassifier\n",
        "\n",
        "model3 = RandomForestClassifier(n_estimators=100, criterion='gini')\n",
        "model3.fit(X_train, y_train)\n",
        "print(model3.score(X_test, y_test))"
      ]
    },
    {
      "attachments": {},
      "cell_type": "markdown",
      "id": "2a1803a3",
      "metadata": {
        "id": "2a1803a3",
        "papermill": {
          "duration": 0.015767,
          "end_time": "2023-04-09T17:29:07.405272",
          "exception": false,
          "start_time": "2023-04-09T17:29:07.389505",
          "status": "completed"
        },
        "tags": []
      },
      "source": [
        "# Training Model Using Decison Tree Algorithm"
      ]
    },
    {
      "cell_type": "code",
      "execution_count": null,
      "id": "b605137d",
      "metadata": {
        "execution": {
          "iopub.execute_input": "2023-04-09T17:29:07.440613Z",
          "iopub.status.busy": "2023-04-09T17:29:07.440147Z",
          "iopub.status.idle": "2023-04-09T17:29:07.456459Z",
          "shell.execute_reply": "2023-04-09T17:29:07.455098Z"
        },
        "id": "b605137d",
        "outputId": "6052affa-3815-4b1f-bbfe-b65aafd91546",
        "papermill": {
          "duration": 0.037046,
          "end_time": "2023-04-09T17:29:07.459251",
          "exception": false,
          "start_time": "2023-04-09T17:29:07.422205",
          "status": "completed"
        },
        "tags": []
      },
      "outputs": [
        {
          "name": "stdout",
          "output_type": "stream",
          "text": [
            "0.965034965034965\n"
          ]
        }
      ],
      "source": [
        "from sklearn.tree import DecisionTreeClassifier\n",
        "model4 = DecisionTreeClassifier() \n",
        "model4.fit(X_train, y_train)\n",
        "print(model4.score(X_test, y_test))"
      ]
    },
    {
      "attachments": {},
      "cell_type": "markdown",
      "id": "552e80c5",
      "metadata": {
        "id": "552e80c5",
        "papermill": {
          "duration": 0.016205,
          "end_time": "2023-04-09T17:29:07.492171",
          "exception": false,
          "start_time": "2023-04-09T17:29:07.475966",
          "status": "completed"
        },
        "tags": []
      },
      "source": [
        "# Plot to show the relation between the accuracy of the model using differnt algorithms"
      ]
    },
    {
      "cell_type": "code",
      "execution_count": null,
      "id": "0684eb9d",
      "metadata": {
        "execution": {
          "iopub.execute_input": "2023-04-09T17:29:07.527125Z",
          "iopub.status.busy": "2023-04-09T17:29:07.526621Z",
          "iopub.status.idle": "2023-04-09T17:29:07.569860Z",
          "shell.execute_reply": "2023-04-09T17:29:07.568208Z"
        },
        "id": "0684eb9d",
        "papermill": {
          "duration": 0.064587,
          "end_time": "2023-04-09T17:29:07.573744",
          "exception": false,
          "start_time": "2023-04-09T17:29:07.509157",
          "status": "completed"
        },
        "tags": []
      },
      "outputs": [],
      "source": [
        "X_axis_value=['Linear Regression','Logistic Regression','Random Forest','Secison Tree']\n",
        "Y_axis_value=[model.score(X_test,y_test),model2.score(X_test, y_test),model3.score(X_test, y_test),model4.score(X_test, y_test)]"
      ]
    },
    {
      "cell_type": "code",
      "execution_count": null,
      "id": "fa29d663",
      "metadata": {
        "execution": {
          "iopub.execute_input": "2023-04-09T17:29:07.610041Z",
          "iopub.status.busy": "2023-04-09T17:29:07.609007Z",
          "iopub.status.idle": "2023-04-09T17:29:07.814971Z",
          "shell.execute_reply": "2023-04-09T17:29:07.813940Z"
        },
        "id": "fa29d663",
        "outputId": "50f5617b-f165-4975-e81f-7380db85ee0e",
        "papermill": {
          "duration": 0.226691,
          "end_time": "2023-04-09T17:29:07.817688",
          "exception": false,
          "start_time": "2023-04-09T17:29:07.590997",
          "status": "completed"
        },
        "tags": []
      },
      "outputs": [
        {
          "data": {
            "image/png": "[encoded data removed]",
            "text/plain": [
              "<Figure size 640x480 with 1 Axes>"
            ]
          },
          "metadata": {},
          "output_type": "display_data"
        }
      ],
      "source": [
        "plt.bar(X_axis_value,Y_axis_value,color='red',width=0.4)\n",
        "plt.xlabel('Algorithms Used')\n",
        "plt.ylabel('Scores')\n",
        "plt.title('Algorithms vs Accuracy')\n",
        "plt.show()"
      ]
    },
    {
      "attachments": {},
      "cell_type": "markdown",
      "id": "84ecaf3b",
      "metadata": {
        "id": "84ecaf3b",
        "papermill": {
          "duration": 0.016955,
          "end_time": "2023-04-09T17:29:07.851713",
          "exception": false,
          "start_time": "2023-04-09T17:29:07.834758",
          "status": "completed"
        },
        "tags": []
      },
      "source": [
        "# Apply Hyperparameter Tuning using GridSearch CV for the Random Forest Algorithm"
      ]
    },
    {
      "cell_type": "code",
      "execution_count": null,
      "id": "c108413c",
      "metadata": {
        "execution": {
          "iopub.execute_input": "2023-04-09T17:29:07.888432Z",
          "iopub.status.busy": "2023-04-09T17:29:07.887128Z",
          "iopub.status.idle": "2023-04-09T17:29:07.893895Z",
          "shell.execute_reply": "2023-04-09T17:29:07.892070Z"
        },
        "id": "c108413c",
        "papermill": {
          "duration": 0.028503,
          "end_time": "2023-04-09T17:29:07.897088",
          "exception": false,
          "start_time": "2023-04-09T17:29:07.868585",
          "status": "completed"
        },
        "tags": []
      },
      "outputs": [],
      "source": [
        "model5 = RandomForestClassifier()"
      ]
    },
    {
      "cell_type": "code",
      "execution_count": null,
      "id": "c1d662f3",
      "metadata": {
        "execution": {
          "iopub.execute_input": "2023-04-09T17:29:07.935031Z",
          "iopub.status.busy": "2023-04-09T17:29:07.934520Z",
          "iopub.status.idle": "2023-04-09T17:29:07.941244Z",
          "shell.execute_reply": "2023-04-09T17:29:07.939526Z"
        },
        "id": "c1d662f3",
        "papermill": {
          "duration": 0.029318,
          "end_time": "2023-04-09T17:29:07.944091",
          "exception": false,
          "start_time": "2023-04-09T17:29:07.914773",
          "status": "completed"
        },
        "tags": []
      },
      "outputs": [],
      "source": [
        "from sklearn.model_selection import GridSearchCV"
      ]
    },
    {
      "cell_type": "code",
      "execution_count": null,
      "id": "7e6dbecb",
      "metadata": {
        "execution": {
          "iopub.execute_input": "2023-04-09T17:29:07.982000Z",
          "iopub.status.busy": "2023-04-09T17:29:07.981165Z",
          "iopub.status.idle": "2023-04-09T17:31:20.011670Z",
          "shell.execute_reply": "2023-04-09T17:31:20.010207Z"
        },
        "id": "7e6dbecb",
        "outputId": "24ef2e6e-3f08-4734-a5a5-972eae65eeb6",
        "papermill": {
          "duration": 132.055326,
          "end_time": "2023-04-09T17:31:20.016458",
          "exception": false,
          "start_time": "2023-04-09T17:29:07.961132",
          "status": "completed"
        },
        "tags": []
      },
      "outputs": [
        {
          "name": "stderr",
          "output_type": "stream",
          "text": [
            "/opt/conda/lib/python3.7/site-packages/sklearn/model_selection/_validation.py:372: FitFailedWarning: \n",
            "350 fits failed out of a total of 700.\n",
            "The score on these train-test partitions for these parameters will be set to nan.\n",
            "If these failures are not expected, you can try to debug them by setting error_score='raise'.\n",
            "\n",
            "Below are more details about the failures:\n",
            "--------------------------------------------------------------------------------\n",
            "350 fits failed with the following error:\n",
            "Traceback (most recent call last):\n",
            "  File \"/opt/conda/lib/python3.7/site-packages/sklearn/model_selection/_validation.py\", line 680, in _fit_and_score\n",
            "    estimator.fit(X_train, y_train, **fit_params)\n",
            "  File \"/opt/conda/lib/python3.7/site-packages/sklearn/ensemble/_forest.py\", line 467, in fit\n",
            "    for i, t in enumerate(trees)\n",
            "  File \"/opt/conda/lib/python3.7/site-packages/joblib/parallel.py\", line 1085, in __call__\n",
            "    if self.dispatch_one_batch(iterator):\n",
            "  File \"/opt/conda/lib/python3.7/site-packages/joblib/parallel.py\", line 901, in dispatch_one_batch\n",
            "    self._dispatch(tasks)\n",
            "  File \"/opt/conda/lib/python3.7/site-packages/joblib/parallel.py\", line 819, in _dispatch\n",
            "    job = self._backend.apply_async(batch, callback=cb)\n",
            "  File \"/opt/conda/lib/python3.7/site-packages/joblib/_parallel_backends.py\", line 208, in apply_async\n",
            "    result = ImmediateResult(func)\n",
            "  File \"/opt/conda/lib/python3.7/site-packages/joblib/_parallel_backends.py\", line 597, in __init__\n",
            "    self.results = batch()\n",
            "  File \"/opt/conda/lib/python3.7/site-packages/joblib/parallel.py\", line 289, in __call__\n",
            "    for func, args, kwargs in self.items]\n",
            "  File \"/opt/conda/lib/python3.7/site-packages/joblib/parallel.py\", line 289, in <listcomp>\n",
            "    for func, args, kwargs in self.items]\n",
            "  File \"/opt/conda/lib/python3.7/site-packages/sklearn/utils/fixes.py\", line 216, in __call__\n",
            "    return self.function(*args, **kwargs)\n",
            "  File \"/opt/conda/lib/python3.7/site-packages/sklearn/ensemble/_forest.py\", line 185, in _parallel_build_trees\n",
            "    tree.fit(X, y, sample_weight=curr_sample_weight, check_input=False)\n",
            "  File \"/opt/conda/lib/python3.7/site-packages/sklearn/tree/_classes.py\", line 942, in fit\n",
            "    X_idx_sorted=X_idx_sorted,\n",
            "  File \"/opt/conda/lib/python3.7/site-packages/sklearn/tree/_classes.py\", line 308, in fit\n",
            "    raise ValueError(\"max_features must be in (0, n_features]\")\n",
            "ValueError: max_features must be in (0, n_features]\n",
            "\n",
            "  warnings.warn(some_fits_failed_message, FitFailedWarning)\n",
            "/opt/conda/lib/python3.7/site-packages/sklearn/model_selection/_search.py:972: UserWarning: One or more of the test scores are non-finite: [    nan 0.974   0.97275 0.97175 0.9705  0.9695  0.9685  0.968       nan\n",
            "     nan     nan     nan     nan     nan     nan 0.97325 0.97125 0.97075\n",
            " 0.9705  0.96925 0.96825 0.966       nan     nan     nan     nan     nan\n",
            "     nan     nan 0.9705  0.97025 0.97075 0.97    0.97025 0.96775 0.96725\n",
            "     nan     nan     nan     nan     nan     nan     nan 0.971   0.971\n",
            " 0.97075 0.96975 0.969   0.968   0.9645      nan     nan     nan     nan\n",
            "     nan     nan     nan 0.97075 0.97    0.97    0.97125 0.96975 0.9685\n",
            " 0.96575     nan     nan     nan     nan     nan     nan]\n",
            "  category=UserWarning,\n"
          ]
        },
        {
          "data": {
            "text/plain": [
              "GridSearchCV(cv=10, estimator=RandomForestClassifier(),\n",
              "             param_grid=[{'max_depth': [10, 11, 12, 13, 14],\n",
              "                          'max_features': [0, 1, 2, 3, 4, 5, 6, 7, 8, 9, 10, 11,\n",
              "                                           12, 13]}],\n",
              "             scoring='accuracy')"
            ]
          },
          "execution_count": 29,
          "metadata": {},
          "output_type": "execute_result"
        }
      ],
      "source": [
        "forest_params = [{'max_depth': list(range(10, 15)), 'max_features': list(range(0,14))}]\n",
        "clf = GridSearchCV(model5, forest_params, cv = 10, scoring='accuracy')\n",
        "clf.fit(X_train, y_train)\n"
      ]
    },
    {
      "cell_type": "code",
      "execution_count": null,
      "id": "dc8cd842",
      "metadata": {
        "execution": {
          "iopub.execute_input": "2023-04-09T17:31:20.053706Z",
          "iopub.status.busy": "2023-04-09T17:31:20.052695Z",
          "iopub.status.idle": "2023-04-09T17:31:20.059048Z",
          "shell.execute_reply": "2023-04-09T17:31:20.057784Z"
        },
        "id": "dc8cd842",
        "outputId": "f510bfcd-ae17-4b89-c585-6a4b4aea76bb",
        "papermill": {
          "duration": 0.027794,
          "end_time": "2023-04-09T17:31:20.061886",
          "exception": false,
          "start_time": "2023-04-09T17:31:20.034092",
          "status": "completed"
        },
        "tags": []
      },
      "outputs": [
        {
          "name": "stdout",
          "output_type": "stream",
          "text": [
            "0.9739999999999999\n"
          ]
        }
      ],
      "source": [
        "RF_score=clf.best_score_\n",
        "print(RF_score)"
      ]
    },
    {
      "cell_type": "code",
      "execution_count": null,
      "id": "6ca4c5c8",
      "metadata": {
        "id": "6ca4c5c8",
        "papermill": {
          "duration": 0.016998,
          "end_time": "2023-04-09T17:31:20.096805",
          "exception": false,
          "start_time": "2023-04-09T17:31:20.079807",
          "status": "completed"
        },
        "tags": []
      },
      "outputs": [],
      "source": []
    }
  ],
  "metadata": {
    "colab": {
      "provenance": []
    },
    "kernelspec": {
      "display_name": "Python 3",
      "language": "python",
      "name": "python3"
    },
    "language_info": {
      "codemirror_mode": {
        "name": "ipython",
        "version": 3
      },
      "file_extension": ".py",
      "mimetype": "text/x-python",
      "name": "python",
      "nbconvert_exporter": "python",
      "pygments_lexer": "ipython3",
      "version": "3.7.12"
    },
    "papermill": {
      "default_parameters": {},
      "duration": 151.06037,
      "end_time": "2023-04-09T17:31:21.038982",
      "environment_variables": {},
      "exception": null,
      "input_path": "__notebook__.ipynb",
      "output_path": "__notebook__.ipynb",
      "parameters": {},
      "start_time": "2023-04-09T17:28:49.978612",
      "version": "2.4.0"
    }
  },
  "nbformat": 4,
  "nbformat_minor": 5
}
